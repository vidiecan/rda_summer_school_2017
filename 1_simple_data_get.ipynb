{
 "cells": [
  {
   "cell_type": "markdown",
   "metadata": {},
   "source": [
    "# Fetch bitstream using PID example"
   ]
  },
  {
   "cell_type": "code",
   "execution_count": null,
   "metadata": {},
   "outputs": [
    {
     "name": "stdout",
     "output_type": "stream",
     "text": [
      "Fetching metadata in CMDI format [http://hdl.handle.net/11346/TEST--HGGA@format=cmdi]\n",
      "Found [2] bitstreams elements in ResourceProxy elements\n",
      "Filtering bitstreams according to specified mimetype [text/csv]\n",
      "Found\n",
      " 0. https://rda-summerschool.csc.fi/repository/xmlui/bitstream/handle/1/4/KUM_Tower_WDIR_32m_1min_2015.csv?sequence=1 [text/csv]\n",
      "Fetching [https://rda-summerschool.csc.fi/repository/xmlui/bitstream/handle/1/4/KUM_Tower_WDIR_32m_1min_2015.csv?sequence=1]\n"
     ]
    }
   ],
   "source": [
    "import urllib\n",
    "import csv\n",
    "\n",
    "\n",
    "def bitstream_info_from_pid(pid_url, mimetype=None):\n",
    "    \"\"\"\n",
    "        Appends well known magic to the `pid_url` and retrieves the  metadata instead of the \n",
    "        landing page. The metadata are parsed to get the mimetype and bitstream url.\n",
    "        \n",
    "        The algorithm looks for items that have ResourceType set to `Resource`.\n",
    "    \"\"\"\n",
    "    import xml.etree.ElementTree as ET\n",
    "\n",
    "    pid_metadata_url = pid_url + \"@format=cmdi\"\n",
    "    \n",
    "    print \"Fetching metadata in CMDI format [%s]\" % pid_metadata_url\n",
    "    ns = \"{http://www.clarin.eu/cmd/}\"\n",
    "    metadata = urllib.urlopen(pid_metadata_url).read()\n",
    "    root = ET.fromstring(metadata)\n",
    "    \n",
    "    # finding bitstream elements\n",
    "    bitstream_info_arr = []\n",
    "    for proxy in root.findall('.//%sResourceProxy' % ns):\n",
    "        rt = proxy.find(\"./%sResourceType\" % ns)\n",
    "        rr = proxy.find(\"./%sResourceRef\" % ns)\n",
    "        if rt.text == \"Resource\":\n",
    "            bitstream_info_arr.append(\n",
    "                (rt.attrib.get(\"mimetype\", \"unknown\"), rr.text)\n",
    "            )\n",
    "    print \"Found [%d] bitstreams elements in ResourceProxy elements\" % len(bitstream_info_arr)\n",
    "\n",
    "    if mimetype is not None:\n",
    "        print \"Filtering bitstreams according to specified mimetype [%s]\" % mimetype\n",
    "        bitstream_info_arr = [x for x in bitstream_info_arr if x[0] == mimetype]    \n",
    "    \n",
    "    print \"Found\"\n",
    "    print \"%s\" % \"\\n\".join([\"%2d. %s [%s]\" % (i, x[1], x[0]) for i, x in enumerate(bitstream_info_arr)])\n",
    "    return bitstream_info_arr\n",
    "\n",
    "\n",
    "def plot(arr):\n",
    "    \"\"\"\n",
    "        Just testing one way of visualisation.\n",
    "    \"\"\"\n",
    "    import pandas as pd\n",
    "    from matplotlib import pyplot as plt\n",
    "    from math import radians\n",
    "\n",
    "    fig = plt.figure()\n",
    "    ax = fig.add_subplot(111, polar=True)\n",
    "    ax.scatter(x=[radians(float(deg)) for _1, deg in arr], y=[1] * len(arr))\n",
    "    ax.set_theta_zero_location('N')\n",
    "    ax.set_theta_direction(-1)\n",
    "    plt.show()\n",
    "\n",
    "\n",
    "# PID to a clarin-dspace repository\n",
    "# - metadata attached to the PID at http://hdl.handle.net/11346/TEST--HGGA?noredirect\n",
    "pid_url = \"http://hdl.handle.net/11346/TEST--HGGA\"\n",
    "\n",
    "# get urls to all bitstreams \n",
    "show_n = 10\n",
    "for bitstream_mimetype, bitstream_url in bitstream_info_from_pid(pid_url, mimetype=\"text/csv\"):\n",
    "    print \"Fetching [%s]\" % bitstream_url\n",
    "    data_csv = csv.reader(urllib.urlopen(bitstream_url))\n",
    "    data_csv = [ [x.strip() for x in line] for line in data_csv ]\n",
    "    print \"Number of rows (with header): %8d\" % len(data_csv)\n",
    "    for i, row in enumerate(data_csv):\n",
    "        print row\n",
    "        if i > show_n:\n",
    "            break\n",
    "\n",
    "plot(data_csv[1:3000])"
   ]
  }
 ],
 "metadata": {
  "kernelspec": {
   "display_name": "Python 2",
   "language": "python",
   "name": "python2"
  },
  "language_info": {
   "codemirror_mode": {
    "name": "ipython",
    "version": 2
   },
   "file_extension": ".py",
   "mimetype": "text/x-python",
   "name": "python",
   "nbconvert_exporter": "python",
   "pygments_lexer": "ipython2",
   "version": "2.7.8"
  }
 },
 "nbformat": 4,
 "nbformat_minor": 2
}
