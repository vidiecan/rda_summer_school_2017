{
 "cells": [
  {
   "cell_type": "code",
   "execution_count": 1,
   "metadata": {},
   "outputs": [
    {
     "name": "stdout",
     "output_type": "stream",
     "text": [
      "https://rda-summerschool.csc.fi/repository/xmlui/bitstream/handle/1/4/KUM_Tower_WDIR_32m_1min_2015.csv?sequence=1\n",
      "Number of rows (with header):   525601\n",
      "['samptime(UTC+2)', 'Tower_WDIR_32m']\n",
      "['2015-01-01 00:00:00', '285.2594']\n",
      "['2015-01-01 00:01:00', '285.7347']\n",
      "['2015-01-01 00:02:00', '287.8657']\n",
      "['2015-01-01 00:03:00', '286.0261']\n",
      "['2015-01-01 00:04:00', '286.7316']\n",
      "['2015-01-01 00:05:00', '287.7657']\n"
     ]
    }
   ],
   "source": [
    "import urllib\n",
    "import csv\n",
    "\n",
    "def get_files_from_pid(pid_url):\n",
    "    \"\"\"\n",
    "        Appends well known magic to the `pid_url` and retrieves the  metadata instead of the \n",
    "        landing page. The metadata are parsed to get the mimetype and url.\n",
    "    \"\"\"\n",
    "    import xml.etree.ElementTree as ET\n",
    "    pid_metadata_url = pid_url + \"@format=cmdi\"\n",
    "    ns = \"{http://www.clarin.eu/cmd/}\"\n",
    "    metadata = urllib.urlopen(pid_metadata_url).read()\n",
    "    root = ET.fromstring(metadata)\n",
    "    proxies = root.findall('.//%sResourceProxy' % ns)\n",
    "    bitstream_elems = [x for x in proxies if x.attrib.get(\"id\", \"\").startswith(\"_\")]\n",
    "    info = [(\n",
    "        x.find(\"./%sResourceType\" % ns).attrib.get(\"mimetype\", \"unknown\"),\n",
    "        x.find(\"./%sResourceRef\" % ns).text\n",
    "    ) for x in bitstream_elems]\n",
    "    return info\n",
    "\n",
    "def plot(arr):\n",
    "    import pandas as pd\n",
    "    from matplotlib import pyplot as plt\n",
    "    from math import radians\n",
    "\n",
    "    ax = plt.subplot(111, polar=True)\n",
    "    ax.scatter(x=[radians(float(deg)) for _1, deg in arr], y=[1] * len(arr))\n",
    "    ax.set_theta_zero_location('N')\n",
    "    ax.set_theta_direction(-1)\n",
    "\n",
    "pid_url = \"http://hdl.handle.net/11346/TEST--HGGA\"\n",
    "for bitstream_mimetype, bitstream_url in  get_files_from_pid(pid_url):\n",
    "    print bitstream_url\n",
    "    data_csv = csv.reader(urllib.urlopen(bitstream_url))\n",
    "    data_csv = [ [x.strip() for x in line] for line in data_csv ]\n",
    "    print \"Number of rows (with header): %8d\" % len(data_csv)\n",
    "    for i, row in enumerate(data_csv):\n",
    "        print row\n",
    "        if i > 5:\n",
    "            break\n",
    "\n",
    "# plot(data_csv[1:3000])\n",
    "\n",
    "\n",
    "\n",
    "\n",
    "\n"
   ]
  }
 ],
 "metadata": {
  "kernelspec": {
   "display_name": "Python 2",
   "language": "python",
   "name": "python2"
  },
  "language_info": {
   "codemirror_mode": {
    "name": "ipython",
    "version": 2
   },
   "file_extension": ".py",
   "mimetype": "text/x-python",
   "name": "python",
   "nbconvert_exporter": "python",
   "pygments_lexer": "ipython2",
   "version": "2.7.8"
  }
 },
 "nbformat": 4,
 "nbformat_minor": 2
}
